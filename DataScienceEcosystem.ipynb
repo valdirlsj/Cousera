{
 "cells": [
  {
   "cell_type": "markdown",
   "id": "91ec9c57",
   "metadata": {},
   "source": [
    "<h1>Data Science Tools and Ecosystem</h1>"
   ]
  },
  {
   "cell_type": "markdown",
   "id": "83cb7a62",
   "metadata": {},
   "source": [
    "<h4>In this notebook, Data Science Tools and Ecosystem are summarized.</h4>"
   ]
  },
  {
   "cell_type": "markdown",
   "id": "bda32354",
   "metadata": {},
   "source": [
    "<b>Objectives:</b>\n",
    "    <ul>\n",
    "    <li>List popular languages for Data Science</li>\n",
    "    <li>Some of the commonly used libraries used by Data Scientists</li>\n",
    "    <li>Some of the commonly used libraries used by Data Scientists</li>\n",
    "    </ul>"
   ]
  },
  {
   "cell_type": "markdown",
   "id": "b086ce67",
   "metadata": {},
   "source": [
    "Some of the popular languages that Data Scientists use are:\n",
    "<ol>\n",
    "  <li>Python</li>\n",
    "  <li>R</li>\n",
    "  <li>Julia</li>\n",
    "</ol>"
   ]
  },
  {
   "attachments": {},
   "cell_type": "markdown",
   "id": "6302a030",
   "metadata": {},
   "source": [
    "Some of the commonly used libraries used by Data Scientists include:\n",
    "<ol>\n",
    "    <li>NumPy</li>\n",
    "    <li>SciPy</li>\n",
    "    <li>Pandas</li>\n",
    "    <li>Keras</li>\n",
    "</ol>"
   ]
  },
  {
   "cell_type": "markdown",
   "id": "ac5c1404",
   "metadata": {},
   "source": [
    "<table>\n",
    "  <tr>\n",
    "    <th>Data Science Tools</th>\n",
    "  </tr>\n",
    "  <tr>\n",
    "    <td>Anaconda</td>\n",
    "  </tr>\n",
    "  <tr>\n",
    "    <td>Google Cloud Platform</td>\n",
    "  </tr>\n",
    "  <tr>\n",
    "    <td>Visual Studio Code</td>\n",
    "  </tr>\n",
    "</table>"
   ]
  },
  {
   "cell_type": "markdown",
   "id": "b07a0e28",
   "metadata": {},
   "source": [
    "<h3>Below are a few examples of evaluating arithmetic expressions in Python</h3>"
   ]
  },
  {
   "cell_type": "markdown",
   "id": "bb3e9b35",
   "metadata": {},
   "source": [
    "This a simple arithmetic expression to mutiply then add integers"
   ]
  },
  {
   "cell_type": "code",
   "execution_count": 1,
   "id": "bcfa5757",
   "metadata": {},
   "outputs": [
    {
     "data": {
      "text/plain": [
       "17"
      ]
     },
     "execution_count": 1,
     "metadata": {},
     "output_type": "execute_result"
    }
   ],
   "source": [
    "(3*4)+5"
   ]
  },
  {
   "cell_type": "markdown",
   "id": "3392793e",
   "metadata": {},
   "source": [
    "This will convert 200 minutes to hours by diving by 60:"
   ]
  },
  {
   "cell_type": "code",
   "execution_count": 2,
   "id": "55be13a7",
   "metadata": {},
   "outputs": [
    {
     "data": {
      "text/plain": [
       "3.3333333333333335"
      ]
     },
     "execution_count": 2,
     "metadata": {},
     "output_type": "execute_result"
    }
   ],
   "source": [
    "200/60"
   ]
  },
  {
   "cell_type": "markdown",
   "id": "9d2c1ef8",
   "metadata": {},
   "source": [
    "<h2>Author:</h2>\n",
    "Valdir Lima da Silva Junior"
   ]
  }
 ],
 "metadata": {
  "kernelspec": {
   "display_name": "Python 3",
   "language": "python",
   "name": "python3"
  },
  "language_info": {
   "codemirror_mode": {
    "name": "ipython",
    "version": 3
   },
   "file_extension": ".py",
   "mimetype": "text/x-python",
   "name": "python",
   "nbconvert_exporter": "python",
   "pygments_lexer": "ipython3",
   "version": "3.8.8"
  }
 },
 "nbformat": 4,
 "nbformat_minor": 5
}
